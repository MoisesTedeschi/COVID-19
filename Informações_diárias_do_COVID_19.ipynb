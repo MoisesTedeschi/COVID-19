{
  "nbformat": 4,
  "nbformat_minor": 0,
  "metadata": {
    "colab": {
      "name": "Informações diárias do COVID-19.ipynb",
      "provenance": [],
      "collapsed_sections": [],
      "authorship_tag": "ABX9TyMl4wFXpKoEjMsJLVnJlOXg",
      "include_colab_link": true
    },
    "kernelspec": {
      "name": "python3",
      "display_name": "Python 3"
    }
  },
  "cells": [
    {
      "cell_type": "markdown",
      "metadata": {
        "id": "view-in-github",
        "colab_type": "text"
      },
      "source": [
        "<a href=\"https://colab.research.google.com/github/MoisesTedeschi/COVID-19/blob/master/Informa%C3%A7%C3%B5es_di%C3%A1rias_do_COVID_19.ipynb\" target=\"_parent\"><img src=\"https://colab.research.google.com/assets/colab-badge.svg\" alt=\"Open In Colab\"/></a>"
      ]
    },
    {
      "cell_type": "markdown",
      "metadata": {
        "colab_type": "text",
        "id": "kkhyDQbKd8hk"
      },
      "source": [
        "#A IMPORTÂNCIA DA QUARENTENA (DISTANCIAMENTO SEGURO) PARA EVITAR O CRESCIMENTO DESENFREADO DO NÚMERO DE INFECTADOS PELO COVID-19\n",
        "\n",
        "\n",
        "\"Por que estão batendo na tecla de evitar aglomerações de pessoas e #FicaEmCasa o máximo possível? Quando todas as pessoas estão circulando (esquerda) o vírus se espalha muito mais rápido que se boa parte ficar isolada (direita). Não é brincadeira nem frescura. Pense no coletivo.\" - [Ciência USP](https://www.facebook.com/cienciausp/videos/281876369466015/?v=281876369466015)\n",
        "\n",
        "<img src=\"https://media.giphy.com/media/cNfRqWTAw6xrxlhGjb/giphy.gif\" width=\"100%\">"
      ]
    },
    {
      "cell_type": "code",
      "metadata": {
        "id": "K0-BjPby8SOB",
        "colab_type": "code",
        "colab": {}
      },
      "source": [
        "import numpy as np\n",
        "import pandas as pd\n",
        "import matplotlib.pyplot as plt\n",
        "import requests, urllib.request, json"
      ],
      "execution_count": 0,
      "outputs": []
    },
    {
      "cell_type": "markdown",
      "metadata": {
        "id": "tccKE01XQBCB",
        "colab_type": "text"
      },
      "source": [
        "#INFORMAÇÕES DIÁRIAS DE CASOS CONFIRMADOS, RECUPERADOS E ÓBITOS"
      ]
    },
    {
      "cell_type": "code",
      "metadata": {
        "id": "xGUHWGCLC9ya",
        "colab_type": "code",
        "outputId": "6bdfc887-8256-49a8-ddf8-fc37061069ef",
        "colab": {
          "base_uri": "https://localhost:8080/",
          "height": 92
        }
      },
      "source": [
        "response = urllib.request.urlopen('https://pomber.github.io/covid19/timeseries.json')\n",
        "data = json.loads(response.read())\n",
        "\n",
        "print('Lista de Paises disponiveis: \\n')\n",
        "print(list(data.keys()))"
      ],
      "execution_count": 2,
      "outputs": [
        {
          "output_type": "stream",
          "text": [
            "Lista de Paises disponiveis: \n",
            "\n",
            "['Afghanistan', 'Albania', 'Algeria', 'Andorra', 'Angola', 'Antigua and Barbuda', 'Argentina', 'Armenia', 'Australia', 'Austria', 'Azerbaijan', 'Bahamas', 'Bahrain', 'Bangladesh', 'Barbados', 'Belarus', 'Belgium', 'Benin', 'Bhutan', 'Bolivia', 'Bosnia and Herzegovina', 'Brazil', 'Brunei', 'Bulgaria', 'Burkina Faso', 'Cabo Verde', 'Cambodia', 'Cameroon', 'Canada', 'Central African Republic', 'Chad', 'Chile', 'China', 'Colombia', 'Congo (Brazzaville)', 'Congo (Kinshasa)', 'Costa Rica', \"Cote d'Ivoire\", 'Croatia', 'Diamond Princess', 'Cuba', 'Cyprus', 'Czechia', 'Denmark', 'Djibouti', 'Dominican Republic', 'Ecuador', 'Egypt', 'El Salvador', 'Equatorial Guinea', 'Eritrea', 'Estonia', 'Eswatini', 'Ethiopia', 'Fiji', 'Finland', 'France', 'Gabon', 'Gambia', 'Georgia', 'Germany', 'Ghana', 'Greece', 'Guatemala', 'Guinea', 'Guyana', 'Haiti', 'Holy See', 'Honduras', 'Hungary', 'Iceland', 'India', 'Indonesia', 'Iran', 'Iraq', 'Ireland', 'Israel', 'Italy', 'Jamaica', 'Japan', 'Jordan', 'Kazakhstan', 'Kenya', 'Korea, South', 'Kuwait', 'Kyrgyzstan', 'Latvia', 'Lebanon', 'Liberia', 'Liechtenstein', 'Lithuania', 'Luxembourg', 'Madagascar', 'Malaysia', 'Maldives', 'Malta', 'Mauritania', 'Mauritius', 'Mexico', 'Moldova', 'Monaco', 'Mongolia', 'Montenegro', 'Morocco', 'Namibia', 'Nepal', 'Netherlands', 'New Zealand', 'Nicaragua', 'Niger', 'Nigeria', 'North Macedonia', 'Norway', 'Oman', 'Pakistan', 'Panama', 'Papua New Guinea', 'Paraguay', 'Peru', 'Philippines', 'Poland', 'Portugal', 'Qatar', 'Romania', 'Russia', 'Rwanda', 'Saint Lucia', 'Saint Vincent and the Grenadines', 'San Marino', 'Saudi Arabia', 'Senegal', 'Serbia', 'Seychelles', 'Singapore', 'Slovakia', 'Slovenia', 'Somalia', 'South Africa', 'Spain', 'Sri Lanka', 'Sudan', 'Suriname', 'Sweden', 'Switzerland', 'Taiwan*', 'Tanzania', 'Thailand', 'Togo', 'Trinidad and Tobago', 'Tunisia', 'Turkey', 'Uganda', 'Ukraine', 'United Arab Emirates', 'United Kingdom', 'Uruguay', 'US', 'Uzbekistan', 'Venezuela', 'Vietnam', 'Zambia', 'Zimbabwe', 'Dominica', 'Grenada', 'Mozambique', 'Syria', 'Timor-Leste', 'Belize', 'Laos', 'Libya', 'West Bank and Gaza', 'Guinea-Bissau', 'Mali', 'Saint Kitts and Nevis', 'Kosovo', 'Burma', 'MS Zaandam', 'Botswana', 'Burundi', 'Sierra Leone', 'Malawi', 'South Sudan', 'Western Sahara', 'Sao Tome and Principe', 'Yemen']\n"
          ],
          "name": "stdout"
        }
      ]
    },
    {
      "cell_type": "code",
      "metadata": {
        "id": "ksX5A2GEF15D",
        "colab_type": "code",
        "colab": {}
      },
      "source": [
        "pais1 = \"China\"\n",
        "pais2 = \"Italy\"\n",
        "pais3 = \"Brazil\""
      ],
      "execution_count": 0,
      "outputs": []
    },
    {
      "cell_type": "code",
      "metadata": {
        "id": "Y1dgI0e48XRg",
        "colab_type": "code",
        "colab": {}
      },
      "source": [
        "def coronavirus_brasil(pais1, pais2, pais3):\n",
        "  url = \"https://pomber.github.io/covid19/timeseries.json\"\n",
        "  requisicao = requests.get(url, timeout=3000)\n",
        "  resposta = requisicao.json()\n",
        "  dicionario_pais1 = resposta[pais1]\n",
        "  dados_pais1 = dicionario_pais1[-1]\n",
        "\n",
        "  dicionario_pais2 = resposta[pais2]\n",
        "  dados_pais2 = dicionario_pais2[-1]\n",
        "\n",
        "  dicionario_pais3 = resposta[pais3]\n",
        "  dados_pais3 = dicionario_pais3[-1]\n",
        "\n",
        "  print(\"Coronavírus COVID-19 na China\\n\")\n",
        "  print(f\"\"\"Pais: {pais1}\n",
        "Data: {dados_pais1['date']}\n",
        "Confirmados: {dados_pais1['confirmed']}\n",
        "Mortos: {dados_pais1['deaths']}\n",
        "Recuperados: {dados_pais1['recovered']}\"\"\")\n",
        "  \n",
        "  print(\"\\n\\nCoronavírus COVID-19 na Itália\\n\")\n",
        "  print(f\"\"\"Pais: {pais2}\n",
        "Data: {dados_pais2['date']}\n",
        "Confirmados: {dados_pais2['confirmed']}\n",
        "Mortos: {dados_pais2['deaths']}\n",
        "Recuperados: {dados_pais2['recovered']}\"\"\")\n",
        "  \n",
        "  print(\"\\n\\nCoronavírus COVID-19 no Brasil\\n\")\n",
        "  print(f\"\"\"Pais: {pais3}\n",
        "Data: {dados_pais3['date']}\n",
        "Confirmados: {dados_pais3['confirmed']}\n",
        "Mortos: {dados_pais3['deaths']}\n",
        "Recuperados: {dados_pais3['recovered']}\"\"\")\n"
      ],
      "execution_count": 0,
      "outputs": []
    },
    {
      "cell_type": "code",
      "metadata": {
        "colab_type": "code",
        "outputId": "96fc50d5-e2e0-411c-f938-e607bc789d00",
        "id": "q_ZMkEcSd7Cg",
        "colab": {
          "base_uri": "https://localhost:8080/",
          "height": 472
        }
      },
      "source": [
        "coronavirus_brasil(pais1, pais2, pais3)"
      ],
      "execution_count": 5,
      "outputs": [
        {
          "output_type": "stream",
          "text": [
            "Coronavírus COVID-19 na China\n",
            "\n",
            "Pais: China\n",
            "Data: 2020-4-10\n",
            "Confirmados: 82941\n",
            "Mortos: 3340\n",
            "Recuperados: 77791\n",
            "\n",
            "\n",
            "Coronavírus COVID-19 na Itália\n",
            "\n",
            "Pais: Italy\n",
            "Data: 2020-4-10\n",
            "Confirmados: 147577\n",
            "Mortos: 18849\n",
            "Recuperados: 30455\n",
            "\n",
            "\n",
            "Coronavírus COVID-19 no Brasil\n",
            "\n",
            "Pais: Brazil\n",
            "Data: 2020-4-10\n",
            "Confirmados: 19638\n",
            "Mortos: 1057\n",
            "Recuperados: 173\n"
          ],
          "name": "stdout"
        }
      ]
    }
  ]
}