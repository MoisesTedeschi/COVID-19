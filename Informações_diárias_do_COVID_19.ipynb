{
  "nbformat": 4,
  "nbformat_minor": 0,
  "metadata": {
    "colab": {
      "name": "Informações diárias do COVID-19.ipynb",
      "provenance": [],
      "collapsed_sections": [],
      "authorship_tag": "ABX9TyMv2LKZLObCbHpcwZhwUViT",
      "include_colab_link": true
    },
    "kernelspec": {
      "name": "python3",
      "display_name": "Python 3"
    }
  },
  "cells": [
    {
      "cell_type": "markdown",
      "metadata": {
        "id": "view-in-github",
        "colab_type": "text"
      },
      "source": [
        "<a href=\"https://colab.research.google.com/github/MoisesTedeschi/COVID-19/blob/master/Informa%C3%A7%C3%B5es_di%C3%A1rias_do_COVID_19.ipynb\" target=\"_parent\"><img src=\"https://colab.research.google.com/assets/colab-badge.svg\" alt=\"Open In Colab\"/></a>"
      ]
    },
    {
      "cell_type": "markdown",
      "metadata": {
        "id": "2aDKI2VeS6ul",
        "colab_type": "text"
      },
      "source": [
        "O script a seguir tem como base os projetos de: [\"Paluch Guilherme\"](https://github.com/gorpo/COVID-19) e [\"João Victor\"](https://github.com/Riquinho/coronavirus) da comunidade Python Brasil."
      ]
    },
    {
      "cell_type": "code",
      "metadata": {
        "id": "K0-BjPby8SOB",
        "colab_type": "code",
        "colab": {}
      },
      "source": [
        "import requests, urllib.request, json\n",
        "import matplotlib.pyplot as plt\n",
        "import numpy as np"
      ],
      "execution_count": 0,
      "outputs": []
    },
    {
      "cell_type": "markdown",
      "metadata": {
        "id": "tccKE01XQBCB",
        "colab_type": "text"
      },
      "source": [
        "#INFORMAÇÕES DIÁRIAS DE CASOS CONFIRMADOS, RECUPERADOS E ÓBITOS"
      ]
    },
    {
      "cell_type": "code",
      "metadata": {
        "id": "xGUHWGCLC9ya",
        "colab_type": "code",
        "colab": {
          "base_uri": "https://localhost:8080/",
          "height": 92
        },
        "outputId": "f0d84bb6-4dcb-4c26-ec6a-31b23a350265"
      },
      "source": [
        "response = urllib.request.urlopen('https://pomber.github.io/covid19/timeseries.json')\n",
        "data = json.loads(response.read())\n",
        "\n",
        "print('Lista de Paises disponiveis: \\n')\n",
        "print(list(data.keys()))"
      ],
      "execution_count": 2,
      "outputs": [
        {
          "output_type": "stream",
          "text": [
            "Lista de Paises disponiveis: \n",
            "\n",
            "['Thailand', 'Japan', 'Singapore', 'Nepal', 'Malaysia', 'Canada', 'Australia', 'Cambodia', 'Sri Lanka', 'Germany', 'Finland', 'United Arab Emirates', 'Philippines', 'India', 'Italy', 'Sweden', 'Spain', 'Belgium', 'Egypt', 'Lebanon', 'Iraq', 'Oman', 'Afghanistan', 'Bahrain', 'Kuwait', 'Algeria', 'Croatia', 'Switzerland', 'Austria', 'Israel', 'Pakistan', 'Brazil', 'Georgia', 'Greece', 'North Macedonia', 'Norway', 'Romania', 'Estonia', 'San Marino', 'Belarus', 'Iceland', 'Lithuania', 'Mexico', 'New Zealand', 'Nigeria', 'Ireland', 'Luxembourg', 'Monaco', 'Qatar', 'Ecuador', 'Azerbaijan', 'Armenia', 'Dominican Republic', 'Indonesia', 'Portugal', 'Andorra', 'Latvia', 'Morocco', 'Saudi Arabia', 'Senegal', 'Argentina', 'Chile', 'Jordan', 'Ukraine', 'Hungary', 'Liechtenstein', 'Poland', 'Tunisia', 'Bosnia and Herzegovina', 'Slovenia', 'South Africa', 'Bhutan', 'Cameroon', 'Colombia', 'Costa Rica', 'Peru', 'Serbia', 'Slovakia', 'Togo', 'Malta', 'Martinique', 'Bulgaria', 'Maldives', 'Bangladesh', 'Paraguay', 'Albania', 'Cyprus', 'Brunei', 'US', 'Burkina Faso', 'Holy See', 'Mongolia', 'Panama', 'China', 'Iran', 'Korea, South', 'France', 'Cruise Ship', 'Denmark', 'Czechia', 'Taiwan*', 'Vietnam', 'Russia', 'Moldova', 'Bolivia', 'Honduras', 'United Kingdom', 'Congo (Kinshasa)', \"Cote d'Ivoire\", 'Jamaica', 'Turkey', 'Cuba', 'Guyana', 'Kazakhstan', 'Ethiopia', 'Sudan', 'Guinea', 'Kenya', 'Antigua and Barbuda', 'Uruguay', 'Ghana', 'Namibia', 'Seychelles', 'Trinidad and Tobago', 'Venezuela', 'Eswatini', 'Gabon', 'Guatemala', 'Mauritania', 'Rwanda', 'Saint Lucia', 'Saint Vincent and the Grenadines', 'Suriname', 'Kosovo', 'Central African Republic', 'Congo (Brazzaville)', 'Equatorial Guinea', 'Uzbekistan', 'Netherlands', 'Benin', 'Greenland', 'Liberia', 'Somalia', 'Tanzania', 'The Bahamas', 'Barbados', 'Montenegro', 'Kyrgyzstan', 'Mauritius', 'Zambia', 'Djibouti', 'Gambia, The']\n"
          ],
          "name": "stdout"
        }
      ]
    },
    {
      "cell_type": "code",
      "metadata": {
        "id": "ksX5A2GEF15D",
        "colab_type": "code",
        "colab": {}
      },
      "source": [
        "pais1 = \"Brazil\"\n",
        "pais2 = \"Italy\""
      ],
      "execution_count": 0,
      "outputs": []
    },
    {
      "cell_type": "code",
      "metadata": {
        "id": "Y1dgI0e48XRg",
        "colab_type": "code",
        "colab": {}
      },
      "source": [
        "def coronavirus_brasil(pais1, pais2):\n",
        "  url = \"https://pomber.github.io/covid19/timeseries.json\"\n",
        "  requisicao = requests.get(url, timeout=3000)\n",
        "  resposta = requisicao.json()\n",
        "  dicionario_pais1 = resposta[pais1]\n",
        "  dados_pais1 = dicionario_pais1[-1]\n",
        "\n",
        "  dicionario_pais2 = resposta[pais2]\n",
        "  dados_pais2 = dicionario_pais2[-1]\n",
        "\n",
        "  print(\"Coronavírus COVID-19 na Itália\\n\")\n",
        "  print(f\"\"\"Pais: {pais2}\n",
        "Data: {dados_pais2['date']}\n",
        "Confirmados: {dados_pais2['confirmed']}\n",
        "Mortos: {dados_pais2['deaths']}\n",
        "Recuperados: {dados_pais2['recovered']}\"\"\")\n",
        "  \n",
        "  print(\"\\n\\nCoronavírus COVID-19 no Brasil\\n\")\n",
        "  print(f\"\"\"Pais: {pais1}\n",
        "Data: {dados_pais1['date']}\n",
        "Confirmados: {dados_pais1['confirmed']}\n",
        "Mortos: {dados_pais1['deaths']}\n",
        "Recuperados: {dados_pais1['recovered']}\"\"\")\n"
      ],
      "execution_count": 0,
      "outputs": []
    },
    {
      "cell_type": "code",
      "metadata": {
        "id": "n3DeDLsZ9VwW",
        "colab_type": "code",
        "colab": {
          "base_uri": "https://localhost:8080/",
          "height": 308
        },
        "outputId": "eb4f07e6-d418-4da9-c880-85bb41266082"
      },
      "source": [
        "coronavirus_brasil(pais1, pais2)"
      ],
      "execution_count": 5,
      "outputs": [
        {
          "output_type": "stream",
          "text": [
            "Coronavírus COVID-19 na Itália\n",
            "\n",
            "Pais: Italy\n",
            "Data: 2020-3-18\n",
            "Confirmados: 35713\n",
            "Mortos: 2978\n",
            "Recuperados: 4025\n",
            "\n",
            "\n",
            "Coronavírus COVID-19 no Brasil\n",
            "\n",
            "Pais: Brazil\n",
            "Data: 2020-3-18\n",
            "Confirmados: 372\n",
            "Mortos: 3\n",
            "Recuperados: 2\n"
          ],
          "name": "stdout"
        }
      ]
    },
    {
      "cell_type": "markdown",
      "metadata": {
        "id": "tYSYTO7dPnYM",
        "colab_type": "text"
      },
      "source": [
        "#GRÁFICO - CRESCIMENTO DE INFECTADOS"
      ]
    },
    {
      "cell_type": "code",
      "metadata": {
        "id": "zs6abcmwBk_i",
        "colab_type": "code",
        "colab": {
          "base_uri": "https://localhost:8080/",
          "height": 401
        },
        "outputId": "df013576-e46a-49ea-9c9d-ff618720ff75"
      },
      "source": [
        "dados_confirmed_ps1 = []\n",
        "dados_confirmed_ps2 = []\n",
        "\n",
        "menor_data = len(data[pais1]) -1 if len(data[pais1]) < len(data[pais2]) else len(data[pais2]) -1\n",
        "print('A menor data serve de inicio da contagem: ' + str(menor_data))\n",
        "while menor_data  > 0:\n",
        "  \n",
        "  confirmed_ps1 = data[pais1][menor_data]['confirmed']\t \n",
        "  confirmed_ps2 = data[pais2][menor_data]['confirmed']\n",
        "  \n",
        "  dados_confirmed_ps1.append(confirmed_ps1)\n",
        "  dados_confirmed_ps2.append(confirmed_ps2)\n",
        "\n",
        "  menor_data  = menor_data - 1\n",
        "\n",
        "dados_confirmed_ps1.reverse()\n",
        "dados_confirmed_ps2.reverse()\n",
        "\n",
        "print('\\nDados Capturados: \\n')\n",
        "print(dados_confirmed_ps1)\n",
        "print(dados_confirmed_ps2)\n",
        "print('\\n')\n",
        "\n",
        "menor_data = len(data[pais1]) -1 if len(data[pais1]) < len(data[pais2]) else len(data[pais2]) -1\n",
        "print('Dias: ' + str(menor_data))\n",
        "\n",
        "\n",
        "for i in list(range(menor_data)):\n",
        "  try:\n",
        "    dados_confirmed_ps1.remove(0)\n",
        "  except:\n",
        "    pass\n",
        "  try:\n",
        "    dados_confirmed_ps2.remove(0)\n",
        "  except:\n",
        "    pass\n",
        "\n",
        "print('\\nDados Capturados(Removendo os Zeros): \\n')\n",
        "print(dados_confirmed_ps1)\n",
        "print(dados_confirmed_ps2)\n",
        "print('\\n')\n",
        "\n",
        "\n",
        "faltantes_ps1 = menor_data - len(dados_confirmed_ps1)\n",
        "print('Dados Faltantes no País 1: ' + str(faltantes_ps1))\n",
        "\n",
        "faltantes_ps2 = menor_data - len(dados_confirmed_ps2)\n",
        "print('Dados Faltantes no País 2: ' + str(faltantes_ps2))\n",
        "\n",
        "\n",
        "for i in range(faltantes_ps1):\n",
        "  num = np.average(dados_confirmed_ps1, weights  = list(range(len(dados_confirmed_ps1))))\n",
        "  dados_confirmed_ps1.append(dados_confirmed_ps1[-1] + num)\n",
        "\n",
        "for i in range(faltantes_ps2):\n",
        "  num = np.average(dados_confirmed_ps2,weights  = list(range(len(dados_confirmed_ps2))))\n",
        "  dados_confirmed_ps2.append(dados_confirmed_ps2[-1] + num)\n",
        "\n",
        "print(dados_confirmed_ps1)\n",
        "print(dados_confirmed_ps2)\t"
      ],
      "execution_count": 6,
      "outputs": [
        {
          "output_type": "stream",
          "text": [
            "A menor data serve de inicio da contagem: 56\n",
            "\n",
            "Dados Capturados: \n",
            "\n",
            "[0, 0, 0, 0, 0, 0, 0, 0, 0, 0, 0, 0, 0, 0, 0, 0, 0, 0, 0, 0, 0, 0, 0, 0, 0, 0, 0, 0, 0, 0, 0, 0, 0, 0, 1, 1, 1, 2, 2, 2, 2, 4, 4, 13, 13, 20, 25, 31, 38, 52, 151, 151, 162, 200, 321, 372]\n",
            "[0, 0, 0, 0, 0, 0, 0, 0, 2, 2, 2, 2, 2, 2, 2, 3, 3, 3, 3, 3, 3, 3, 3, 3, 3, 3, 3, 3, 3, 20, 62, 155, 229, 322, 453, 655, 888, 1128, 1694, 2036, 2502, 3089, 3858, 4636, 5883, 7375, 9172, 10149, 12462, 12462, 17660, 21157, 24747, 27980, 31506, 35713]\n",
            "\n",
            "\n",
            "Dias: 56\n",
            "\n",
            "Dados Capturados(Removendo os Zeros): \n",
            "\n",
            "[1, 1, 1, 2, 2, 2, 2, 4, 4, 13, 13, 20, 25, 31, 38, 52, 151, 151, 162, 200, 321, 372]\n",
            "[2, 2, 2, 2, 2, 2, 2, 3, 3, 3, 3, 3, 3, 3, 3, 3, 3, 3, 3, 3, 3, 20, 62, 155, 229, 322, 453, 655, 888, 1128, 1694, 2036, 2502, 3089, 3858, 4636, 5883, 7375, 9172, 10149, 12462, 12462, 17660, 21157, 24747, 27980, 31506, 35713]\n",
            "\n",
            "\n",
            "Dados Faltantes no País 1: 34\n",
            "Dados Faltantes no País 2: 8\n",
            "[1, 1, 1, 2, 2, 2, 2, 4, 4, 13, 13, 20, 25, 31, 38, 52, 151, 151, 162, 200, 321, 372, 495.42857142857144, 651.2049689440994, 848.2670807453417, 1097.425590062112, 1411.83541328237, 1807.5360209516732, 2304.082015284003, 2925.2856662336894, 3700.094784868976, 4663.63201100321, 5858.425161191755, 7335.862675683526, 9157.913434951282, 11399.15634711524, 14149.172227887602, 17515.358722017543, 21626.238491299464, 26635.341784787415, 32725.75700284034, 40115.457186004845, 49063.526750256984, 59877.43153246284, 72921.49662149856, 88626.78088975485, 107502.56501111978, 130149.70151077214, 157276.11155255447, 189714.7543090622, 228444.44152767214, 274613.92303291196, 329569.729212293, 394888.3249400858, 472413.2069350006, 564297.6643822822]\n",
            "[2, 2, 2, 2, 2, 2, 2, 3, 3, 3, 3, 3, 3, 3, 3, 3, 3, 3, 3, 3, 3, 20, 62, 155, 229, 322, 453, 655, 888, 1128, 1694, 2036, 2502, 3089, 3858, 4636, 5883, 7375, 9172, 10149, 12462, 12462, 17660, 21157, 24747, 27980, 31506, 35713, 44632.83156028369, 55010.33658995513, 67173.15488203792, 81493.24127568759, 98396.91054941562, 118375.7964750564, 141999.0124210459, 169926.80278431016]\n"
          ],
          "name": "stdout"
        }
      ]
    },
    {
      "cell_type": "code",
      "metadata": {
        "id": "RjvFeSiSKj8D",
        "colab_type": "code",
        "colab": {
          "base_uri": "https://localhost:8080/",
          "height": 694
        },
        "outputId": "93a5ab47-9dec-477a-bf93-bfa7d499192a"
      },
      "source": [
        "print('''O script pega o numero de dias de infectados em ambos os paises e\n",
        "projeta o crescimento dos infectados por dias (em ambos os paises). Caso algum\n",
        "pais tenha menos dias de registro, o calculo da projecao e realizado por media\n",
        "ponderada.''') \n",
        "\n",
        "\n",
        "fig, ax = plt.subplots(figsize=(16,10))\n",
        "ax.plot(list(range(menor_data)) , dados_confirmed_ps1, label=str(pais1))\n",
        "ax.plot(list(range(menor_data)) , dados_confirmed_ps2, label=str(pais2))\n",
        "ax.set_title('CRESCIMENTO DO NÚMERO DE INFECTADOS')\n",
        "ax.set_xlabel('DIAS')\n",
        "ax.set_ylabel('INFECTADOS')\n",
        "plt.legend(loc='best')\n",
        "plt.show()\t"
      ],
      "execution_count": 7,
      "outputs": [
        {
          "output_type": "stream",
          "text": [
            "O script pega o numero de dias de infectados em ambos os paises e\n",
            "projeta o crescimento dos infectados por dias (em ambos os paises). Caso algum\n",
            "pais tenha menos dias de registro, o calculo da projecao e realizado por media\n",
            "ponderada.\n"
          ],
          "name": "stdout"
        },
        {
          "output_type": "display_data",
          "data": {
            "image/png": "[encoded data removed]",
            "text/plain": [
              "<Figure size 1152x720 with 1 Axes>"
            ]
          },
          "metadata": {
            "tags": []
          }
        }
      ]
    },
    {
      "cell_type": "code",
      "metadata": {
        "id": "2_Qd8VpAPV8o",
        "colab_type": "code",
        "colab": {}
      },
      "source": [
        ""
      ],
      "execution_count": 0,
      "outputs": []
    }
  ]
}