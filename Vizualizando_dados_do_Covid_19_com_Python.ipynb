{
  "nbformat": 4,
  "nbformat_minor": 0,
  "metadata": {
    "colab": {
      "name": "Vizualizando-dados-do-Covid-19-com-Python.ipynb",
      "provenance": [],
      "collapsed_sections": [],
      "authorship_tag": "ABX9TyMgHsKddzg3XRiNM3oj3fum",
      "include_colab_link": true
    },
    "kernelspec": {
      "name": "python3",
      "display_name": "Python 3"
    }
  },
  "cells": [
    {
      "cell_type": "markdown",
      "metadata": {
        "id": "view-in-github",
        "colab_type": "text"
      },
      "source": [
        "<a href=\"https://colab.research.google.com/github/MoisesTedeschi/COVID-19/blob/master/Vizualizando_dados_do_Covid_19_com_Python.ipynb\" target=\"_parent\"><img src=\"https://colab.research.google.com/assets/colab-badge.svg\" alt=\"Open In Colab\"/></a>"
      ]
    },
    {
      "cell_type": "markdown",
      "metadata": {
        "id": "7ncDeXXSOX5U",
        "colab_type": "text"
      },
      "source": [
        "# VISUALIZANDO DADOS DO CORONAVÍRUS (COVID-19) COM PYTHON"
      ]
    },
    {
      "cell_type": "code",
      "metadata": {
        "id": "55fz2nVsOHpu",
        "colab_type": "code",
        "colab": {}
      },
      "source": [
        "import pandas as pd"
      ],
      "execution_count": 0,
      "outputs": []
    },
    {
      "cell_type": "code",
      "metadata": {
        "id": "TekWa8yAOUdq",
        "colab_type": "code",
        "colab": {}
      },
      "source": [
        "# from google.colab import files\n",
        "# files.upload()"
      ],
      "execution_count": 0,
      "outputs": []
    },
    {
      "cell_type": "code",
      "metadata": {
        "id": "8lKUNiV0OVrh",
        "colab_type": "code",
        "colab": {
          "base_uri": "https://localhost:8080/",
          "height": 320
        },
        "outputId": "54e20dc7-8146-45cd-9fe9-8fd17ed2e7ea"
      },
      "source": [
        "file = 'data/covid_19_clean_complete.csv'\n",
        "df = pd.read_csv(file, sep=',', parse_dates=['Date'])"
      ],
      "execution_count": 3,
      "outputs": [
        {
          "output_type": "error",
          "ename": "ValueError",
          "evalue": "ignored",
          "traceback": [
            "\u001b[0;31m---------------------------------------------------------------------------\u001b[0m",
            "\u001b[0;31mValueError\u001b[0m                                Traceback (most recent call last)",
            "\u001b[0;32m<ipython-input-3-a406e7589e16>\u001b[0m in \u001b[0;36m<module>\u001b[0;34m()\u001b[0m\n\u001b[1;32m      1\u001b[0m \u001b[0mfile\u001b[0m \u001b[0;34m=\u001b[0m \u001b[0;34m'https://github.com/MoisesTedeschi/COVID-19/blob/master/data/covid_19_clean_complete.csv'\u001b[0m\u001b[0;34m\u001b[0m\u001b[0;34m\u001b[0m\u001b[0m\n\u001b[0;32m----> 2\u001b[0;31m \u001b[0mdf\u001b[0m \u001b[0;34m=\u001b[0m \u001b[0mpd\u001b[0m\u001b[0;34m.\u001b[0m\u001b[0mread_csv\u001b[0m\u001b[0;34m(\u001b[0m\u001b[0mfile\u001b[0m\u001b[0;34m,\u001b[0m \u001b[0msep\u001b[0m\u001b[0;34m=\u001b[0m\u001b[0;34m','\u001b[0m\u001b[0;34m,\u001b[0m \u001b[0mparse_dates\u001b[0m\u001b[0;34m=\u001b[0m\u001b[0;34m[\u001b[0m\u001b[0;34m'Date'\u001b[0m\u001b[0;34m]\u001b[0m\u001b[0;34m)\u001b[0m\u001b[0;34m\u001b[0m\u001b[0;34m\u001b[0m\u001b[0m\n\u001b[0m",
            "\u001b[0;32m/usr/local/lib/python3.6/dist-packages/pandas/io/parsers.py\u001b[0m in \u001b[0;36mparser_f\u001b[0;34m(filepath_or_buffer, sep, delimiter, header, names, index_col, usecols, squeeze, prefix, mangle_dupe_cols, dtype, engine, converters, true_values, false_values, skipinitialspace, skiprows, skipfooter, nrows, na_values, keep_default_na, na_filter, verbose, skip_blank_lines, parse_dates, infer_datetime_format, keep_date_col, date_parser, dayfirst, cache_dates, iterator, chunksize, compression, thousands, decimal, lineterminator, quotechar, quoting, doublequote, escapechar, comment, encoding, dialect, error_bad_lines, warn_bad_lines, delim_whitespace, low_memory, memory_map, float_precision)\u001b[0m\n\u001b[1;32m    674\u001b[0m         )\n\u001b[1;32m    675\u001b[0m \u001b[0;34m\u001b[0m\u001b[0m\n\u001b[0;32m--> 676\u001b[0;31m         \u001b[0;32mreturn\u001b[0m \u001b[0m_read\u001b[0m\u001b[0;34m(\u001b[0m\u001b[0mfilepath_or_buffer\u001b[0m\u001b[0;34m,\u001b[0m \u001b[0mkwds\u001b[0m\u001b[0;34m)\u001b[0m\u001b[0;34m\u001b[0m\u001b[0;34m\u001b[0m\u001b[0m\n\u001b[0m\u001b[1;32m    677\u001b[0m \u001b[0;34m\u001b[0m\u001b[0m\n\u001b[1;32m    678\u001b[0m     \u001b[0mparser_f\u001b[0m\u001b[0;34m.\u001b[0m\u001b[0m__name__\u001b[0m \u001b[0;34m=\u001b[0m \u001b[0mname\u001b[0m\u001b[0;34m\u001b[0m\u001b[0;34m\u001b[0m\u001b[0m\n",
            "\u001b[0;32m/usr/local/lib/python3.6/dist-packages/pandas/io/parsers.py\u001b[0m in \u001b[0;36m_read\u001b[0;34m(filepath_or_buffer, kwds)\u001b[0m\n\u001b[1;32m    446\u001b[0m \u001b[0;34m\u001b[0m\u001b[0m\n\u001b[1;32m    447\u001b[0m     \u001b[0;31m# Create the parser.\u001b[0m\u001b[0;34m\u001b[0m\u001b[0;34m\u001b[0m\u001b[0;34m\u001b[0m\u001b[0m\n\u001b[0;32m--> 448\u001b[0;31m     \u001b[0mparser\u001b[0m \u001b[0;34m=\u001b[0m \u001b[0mTextFileReader\u001b[0m\u001b[0;34m(\u001b[0m\u001b[0mfp_or_buf\u001b[0m\u001b[0;34m,\u001b[0m \u001b[0;34m**\u001b[0m\u001b[0mkwds\u001b[0m\u001b[0;34m)\u001b[0m\u001b[0;34m\u001b[0m\u001b[0;34m\u001b[0m\u001b[0m\n\u001b[0m\u001b[1;32m    449\u001b[0m \u001b[0;34m\u001b[0m\u001b[0m\n\u001b[1;32m    450\u001b[0m     \u001b[0;32mif\u001b[0m \u001b[0mchunksize\u001b[0m \u001b[0;32mor\u001b[0m \u001b[0miterator\u001b[0m\u001b[0;34m:\u001b[0m\u001b[0;34m\u001b[0m\u001b[0;34m\u001b[0m\u001b[0m\n",
            "\u001b[0;32m/usr/local/lib/python3.6/dist-packages/pandas/io/parsers.py\u001b[0m in \u001b[0;36m__init__\u001b[0;34m(self, f, engine, **kwds)\u001b[0m\n\u001b[1;32m    878\u001b[0m             \u001b[0mself\u001b[0m\u001b[0;34m.\u001b[0m\u001b[0moptions\u001b[0m\u001b[0;34m[\u001b[0m\u001b[0;34m\"has_index_names\"\u001b[0m\u001b[0;34m]\u001b[0m \u001b[0;34m=\u001b[0m \u001b[0mkwds\u001b[0m\u001b[0;34m[\u001b[0m\u001b[0;34m\"has_index_names\"\u001b[0m\u001b[0;34m]\u001b[0m\u001b[0;34m\u001b[0m\u001b[0;34m\u001b[0m\u001b[0m\n\u001b[1;32m    879\u001b[0m \u001b[0;34m\u001b[0m\u001b[0m\n\u001b[0;32m--> 880\u001b[0;31m         \u001b[0mself\u001b[0m\u001b[0;34m.\u001b[0m\u001b[0m_make_engine\u001b[0m\u001b[0;34m(\u001b[0m\u001b[0mself\u001b[0m\u001b[0;34m.\u001b[0m\u001b[0mengine\u001b[0m\u001b[0;34m)\u001b[0m\u001b[0;34m\u001b[0m\u001b[0;34m\u001b[0m\u001b[0m\n\u001b[0m\u001b[1;32m    881\u001b[0m \u001b[0;34m\u001b[0m\u001b[0m\n\u001b[1;32m    882\u001b[0m     \u001b[0;32mdef\u001b[0m \u001b[0mclose\u001b[0m\u001b[0;34m(\u001b[0m\u001b[0mself\u001b[0m\u001b[0;34m)\u001b[0m\u001b[0;34m:\u001b[0m\u001b[0;34m\u001b[0m\u001b[0;34m\u001b[0m\u001b[0m\n",
            "\u001b[0;32m/usr/local/lib/python3.6/dist-packages/pandas/io/parsers.py\u001b[0m in \u001b[0;36m_make_engine\u001b[0;34m(self, engine)\u001b[0m\n\u001b[1;32m   1112\u001b[0m     \u001b[0;32mdef\u001b[0m \u001b[0m_make_engine\u001b[0m\u001b[0;34m(\u001b[0m\u001b[0mself\u001b[0m\u001b[0;34m,\u001b[0m \u001b[0mengine\u001b[0m\u001b[0;34m=\u001b[0m\u001b[0;34m\"c\"\u001b[0m\u001b[0;34m)\u001b[0m\u001b[0;34m:\u001b[0m\u001b[0;34m\u001b[0m\u001b[0;34m\u001b[0m\u001b[0m\n\u001b[1;32m   1113\u001b[0m         \u001b[0;32mif\u001b[0m \u001b[0mengine\u001b[0m \u001b[0;34m==\u001b[0m \u001b[0;34m\"c\"\u001b[0m\u001b[0;34m:\u001b[0m\u001b[0;34m\u001b[0m\u001b[0;34m\u001b[0m\u001b[0m\n\u001b[0;32m-> 1114\u001b[0;31m             \u001b[0mself\u001b[0m\u001b[0;34m.\u001b[0m\u001b[0m_engine\u001b[0m \u001b[0;34m=\u001b[0m \u001b[0mCParserWrapper\u001b[0m\u001b[0;34m(\u001b[0m\u001b[0mself\u001b[0m\u001b[0;34m.\u001b[0m\u001b[0mf\u001b[0m\u001b[0;34m,\u001b[0m \u001b[0;34m**\u001b[0m\u001b[0mself\u001b[0m\u001b[0;34m.\u001b[0m\u001b[0moptions\u001b[0m\u001b[0;34m)\u001b[0m\u001b[0;34m\u001b[0m\u001b[0;34m\u001b[0m\u001b[0m\n\u001b[0m\u001b[1;32m   1115\u001b[0m         \u001b[0;32melse\u001b[0m\u001b[0;34m:\u001b[0m\u001b[0;34m\u001b[0m\u001b[0;34m\u001b[0m\u001b[0m\n\u001b[1;32m   1116\u001b[0m             \u001b[0;32mif\u001b[0m \u001b[0mengine\u001b[0m \u001b[0;34m==\u001b[0m \u001b[0;34m\"python\"\u001b[0m\u001b[0;34m:\u001b[0m\u001b[0;34m\u001b[0m\u001b[0;34m\u001b[0m\u001b[0m\n",
            "\u001b[0;32m/usr/local/lib/python3.6/dist-packages/pandas/io/parsers.py\u001b[0m in \u001b[0;36m__init__\u001b[0;34m(self, src, **kwds)\u001b[0m\n\u001b[1;32m   1947\u001b[0m                 \u001b[0m_validate_usecols_names\u001b[0m\u001b[0;34m(\u001b[0m\u001b[0musecols\u001b[0m\u001b[0;34m,\u001b[0m \u001b[0mself\u001b[0m\u001b[0;34m.\u001b[0m\u001b[0mnames\u001b[0m\u001b[0;34m)\u001b[0m\u001b[0;34m\u001b[0m\u001b[0;34m\u001b[0m\u001b[0m\n\u001b[1;32m   1948\u001b[0m \u001b[0;34m\u001b[0m\u001b[0m\n\u001b[0;32m-> 1949\u001b[0;31m         \u001b[0mself\u001b[0m\u001b[0;34m.\u001b[0m\u001b[0m_set_noconvert_columns\u001b[0m\u001b[0;34m(\u001b[0m\u001b[0;34m)\u001b[0m\u001b[0;34m\u001b[0m\u001b[0;34m\u001b[0m\u001b[0m\n\u001b[0m\u001b[1;32m   1950\u001b[0m \u001b[0;34m\u001b[0m\u001b[0m\n\u001b[1;32m   1951\u001b[0m         \u001b[0mself\u001b[0m\u001b[0;34m.\u001b[0m\u001b[0morig_names\u001b[0m \u001b[0;34m=\u001b[0m \u001b[0mself\u001b[0m\u001b[0;34m.\u001b[0m\u001b[0mnames\u001b[0m\u001b[0;34m\u001b[0m\u001b[0;34m\u001b[0m\u001b[0m\n",
            "\u001b[0;32m/usr/local/lib/python3.6/dist-packages/pandas/io/parsers.py\u001b[0m in \u001b[0;36m_set_noconvert_columns\u001b[0;34m(self)\u001b[0m\n\u001b[1;32m   2013\u001b[0m                         \u001b[0m_set\u001b[0m\u001b[0;34m(\u001b[0m\u001b[0mk\u001b[0m\u001b[0;34m)\u001b[0m\u001b[0;34m\u001b[0m\u001b[0;34m\u001b[0m\u001b[0m\n\u001b[1;32m   2014\u001b[0m                 \u001b[0;32melse\u001b[0m\u001b[0;34m:\u001b[0m\u001b[0;34m\u001b[0m\u001b[0;34m\u001b[0m\u001b[0m\n\u001b[0;32m-> 2015\u001b[0;31m                     \u001b[0m_set\u001b[0m\u001b[0;34m(\u001b[0m\u001b[0mval\u001b[0m\u001b[0;34m)\u001b[0m\u001b[0;34m\u001b[0m\u001b[0;34m\u001b[0m\u001b[0m\n\u001b[0m\u001b[1;32m   2016\u001b[0m \u001b[0;34m\u001b[0m\u001b[0m\n\u001b[1;32m   2017\u001b[0m         \u001b[0;32melif\u001b[0m \u001b[0misinstance\u001b[0m\u001b[0;34m(\u001b[0m\u001b[0mself\u001b[0m\u001b[0;34m.\u001b[0m\u001b[0mparse_dates\u001b[0m\u001b[0;34m,\u001b[0m \u001b[0mdict\u001b[0m\u001b[0;34m)\u001b[0m\u001b[0;34m:\u001b[0m\u001b[0;34m\u001b[0m\u001b[0;34m\u001b[0m\u001b[0m\n",
            "\u001b[0;32m/usr/local/lib/python3.6/dist-packages/pandas/io/parsers.py\u001b[0m in \u001b[0;36m_set\u001b[0;34m(x)\u001b[0m\n\u001b[1;32m   2003\u001b[0m \u001b[0;34m\u001b[0m\u001b[0m\n\u001b[1;32m   2004\u001b[0m             \u001b[0;32mif\u001b[0m \u001b[0;32mnot\u001b[0m \u001b[0mis_integer\u001b[0m\u001b[0;34m(\u001b[0m\u001b[0mx\u001b[0m\u001b[0;34m)\u001b[0m\u001b[0;34m:\u001b[0m\u001b[0;34m\u001b[0m\u001b[0;34m\u001b[0m\u001b[0m\n\u001b[0;32m-> 2005\u001b[0;31m                 \u001b[0mx\u001b[0m \u001b[0;34m=\u001b[0m \u001b[0mnames\u001b[0m\u001b[0;34m.\u001b[0m\u001b[0mindex\u001b[0m\u001b[0;34m(\u001b[0m\u001b[0mx\u001b[0m\u001b[0;34m)\u001b[0m\u001b[0;34m\u001b[0m\u001b[0;34m\u001b[0m\u001b[0m\n\u001b[0m\u001b[1;32m   2006\u001b[0m \u001b[0;34m\u001b[0m\u001b[0m\n\u001b[1;32m   2007\u001b[0m             \u001b[0mself\u001b[0m\u001b[0;34m.\u001b[0m\u001b[0m_reader\u001b[0m\u001b[0;34m.\u001b[0m\u001b[0mset_noconvert\u001b[0m\u001b[0;34m(\u001b[0m\u001b[0mx\u001b[0m\u001b[0;34m)\u001b[0m\u001b[0;34m\u001b[0m\u001b[0;34m\u001b[0m\u001b[0m\n",
            "\u001b[0;31mValueError\u001b[0m: 'Date' is not in list"
          ]
        }
      ]
    },
    {
      "cell_type": "code",
      "metadata": {
        "id": "FGsYowZ_PAN3",
        "colab_type": "code",
        "colab": {}
      },
      "source": [
        "import warnings\n",
        "warnings.filterwarnings('ignore')"
      ],
      "execution_count": 0,
      "outputs": []
    },
    {
      "cell_type": "code",
      "metadata": {
        "id": "m80lhhhAPJ7z",
        "colab_type": "code",
        "colab": {}
      },
      "source": [
        "df.head(10)"
      ],
      "execution_count": 0,
      "outputs": []
    },
    {
      "cell_type": "code",
      "metadata": {
        "id": "JSyjd7ZxPM2R",
        "colab_type": "code",
        "colab": {}
      },
      "source": [
        "df.info()"
      ],
      "execution_count": 0,
      "outputs": []
    },
    {
      "cell_type": "code",
      "metadata": {
        "id": "ax9c76HgPRMb",
        "colab_type": "code",
        "colab": {}
      },
      "source": [
        "# Casos Ativos = Casos Confirmados - Mortes - Casos Recuperados\n",
        "# Ou seja, pessoas não recuperadas, confirmadas e não mortas.\n",
        "df['Active'] = df['Confirmed'] - df['Deaths'] - df['Recovered']"
      ],
      "execution_count": 0,
      "outputs": []
    },
    {
      "cell_type": "code",
      "metadata": {
        "id": "fgQfAZf8P3o_",
        "colab_type": "code",
        "colab": {}
      },
      "source": [
        "# Subistituindo Mainland China por China (Mesma Região, mas só vamos mudar o nome.)\n",
        "df['Country/Region'] = df['Country/Region'].replace('Mainland China', 'China')"
      ],
      "execution_count": 0,
      "outputs": []
    },
    {
      "cell_type": "code",
      "metadata": {
        "id": "GxfjDKv6Q_RX",
        "colab_type": "code",
        "colab": {}
      },
      "source": [
        "# Preenchendo \"Missing Values\" (Valores Nulos)\n",
        "df[['Province/State']] = df[['Province/State']].fillna('')\n",
        "df[['Confirmed', 'Deaths', 'Recovered', 'Active']] = df[['Confirmed', 'Deaths', 'Recovered', 'Active']].fillna(0)\n"
      ],
      "execution_count": 0,
      "outputs": []
    },
    {
      "cell_type": "code",
      "metadata": {
        "id": "_8x3jQsxRqss",
        "colab_type": "code",
        "colab": {}
      },
      "source": [
        "# Convertendo datatypes para valores inteiros\n",
        "df['Recovered'] = df['Recovered'].astype(int)"
      ],
      "execution_count": 0,
      "outputs": []
    },
    {
      "cell_type": "code",
      "metadata": {
        "id": "jm2YfqrvR5dE",
        "colab_type": "code",
        "colab": {}
      },
      "source": [
        "df.head()"
      ],
      "execution_count": 0,
      "outputs": []
    },
    {
      "cell_type": "markdown",
      "metadata": {
        "id": "tvtkA3ZPSKQc",
        "colab_type": "text"
      },
      "source": [
        "## EXAMINANDO DADOS TEMPORAIS"
      ]
    },
    {
      "cell_type": "code",
      "metadata": {
        "id": "g7Rc8PhdSOUh",
        "colab_type": "code",
        "colab": {}
      },
      "source": [
        "df.Date.describe()"
      ],
      "execution_count": 0,
      "outputs": []
    },
    {
      "cell_type": "markdown",
      "metadata": {
        "id": "3mUWtOcASdb8",
        "colab_type": "text"
      },
      "source": [
        "## AGRUPANDO DADOS"
      ]
    },
    {
      "cell_type": "code",
      "metadata": {
        "id": "IlQJQNjTSRwW",
        "colab_type": "code",
        "colab": {}
      },
      "source": [
        "# Obtem o número de casos confirmados, mortes, recuperados e ativos agrupado por data e por região.\n",
        "df_agrupado = df.groupby(['Date', 'Country/Region'])['Confirmed', 'Deaths', 'Recovered', 'Active'].sum().reset_index()"
      ],
      "execution_count": 0,
      "outputs": []
    },
    {
      "cell_type": "code",
      "metadata": {
        "id": "SpQAOcRTS7PN",
        "colab_type": "code",
        "colab": {}
      },
      "source": [
        "# Ordena o dataframe por mais casos confirmados\n",
        "df_agrupado.sort_values(by='Confirmed', ascending=False)"
      ],
      "execution_count": 0,
      "outputs": []
    },
    {
      "cell_type": "code",
      "metadata": {
        "id": "CtMFareqTAvN",
        "colab_type": "code",
        "colab": {}
      },
      "source": [
        "# Obtem o número de casos confirmados, mortes, recuperados e ativos agrupando por região.\n",
        "df_group_paises = df.groupby('Country/Region')['Confirmed', 'Deaths', 'Recovered', 'Active'].sum().reset_index()"
      ],
      "execution_count": 0,
      "outputs": []
    },
    {
      "cell_type": "code",
      "metadata": {
        "id": "iRMXPnUMTHue",
        "colab_type": "code",
        "colab": {}
      },
      "source": [
        "# ordena por países com mais casos confirmados\n",
        "df_group_paises.sort_values(by='Confirmed', ascending=False)"
      ],
      "execution_count": 0,
      "outputs": []
    },
    {
      "cell_type": "code",
      "metadata": {
        "id": "tTP7YKEpTMAX",
        "colab_type": "code",
        "colab": {}
      },
      "source": [
        "# Agrupa quantidade de casos recuperados, mortes e ativos por data\n",
        "temp = df.groupby('Date')['Recovered', 'Deaths', 'Active'].sum().reset_index()"
      ],
      "execution_count": 0,
      "outputs": []
    },
    {
      "cell_type": "code",
      "metadata": {
        "id": "j4PoCnn6TQLo",
        "colab_type": "code",
        "colab": {}
      },
      "source": [
        "# Remodela o dataframe com variável e valor para ter quantidades de recuperados, mortos e ativos\n",
        "temp = temp.melt(id_vars=\"Date\", value_vars=['Recovered', 'Deaths', 'Active'],\n",
        "                 var_name='Case', value_name='Count')"
      ],
      "execution_count": 0,
      "outputs": []
    },
    {
      "cell_type": "code",
      "metadata": {
        "id": "_zHHj0HoTTQO",
        "colab_type": "code",
        "colab": {}
      },
      "source": [
        "temp.head(20)"
      ],
      "execution_count": 0,
      "outputs": []
    },
    {
      "cell_type": "markdown",
      "metadata": {
        "id": "KxaJaBqgUFxW",
        "colab_type": "text"
      },
      "source": [
        "## CASOS AO LONGO DO TEMPO\n"
      ]
    },
    {
      "cell_type": "code",
      "metadata": {
        "id": "vskQkvd1TUxs",
        "colab_type": "code",
        "colab": {}
      },
      "source": [
        "# Habilita modo offline do plot\n",
        "from plotly.offline import plot, iplot, init_notebook_mode\n",
        "init_notebook_mode(connected=True)"
      ],
      "execution_count": 0,
      "outputs": []
    },
    {
      "cell_type": "code",
      "metadata": {
        "id": "WE9bMQx7T0xu",
        "colab_type": "code",
        "colab": {}
      },
      "source": [
        "# Definindo o renderizador\n",
        "import plotly.io as pio\n",
        "pio.renderers\n",
        "pio.renderers.default = \"colab\""
      ],
      "execution_count": 0,
      "outputs": []
    },
    {
      "cell_type": "code",
      "metadata": {
        "id": "SvDr7BplT2w5",
        "colab_type": "code",
        "colab": {}
      },
      "source": [
        "# Cores\n",
        "recuperados = '#21bf73'\n",
        "mortes = '#ff2e63'\n",
        "ativos = '#fe9801'"
      ],
      "execution_count": 0,
      "outputs": []
    },
    {
      "cell_type": "code",
      "metadata": {
        "id": "RgLihfazT4nl",
        "colab_type": "code",
        "colab": {}
      },
      "source": [
        "import plotly.express as px\n",
        "fig = px.area(temp, \n",
        "              x=\"Date\", \n",
        "              y=\"Count\", \n",
        "              color='Case', \n",
        "              height=600,\n",
        "              title='CASOS AO LONGO DO TEMPO',\n",
        "              color_discrete_sequence = [recuperados, mortes, ativos])\n",
        "fig.update_layout(xaxis_rangeslider_visible=True)\n",
        "fig.show()"
      ],
      "execution_count": 0,
      "outputs": []
    },
    {
      "cell_type": "code",
      "metadata": {
        "id": "2YE5bIicT6bX",
        "colab_type": "code",
        "colab": {}
      },
      "source": [
        "import numpy as np"
      ],
      "execution_count": 0,
      "outputs": []
    },
    {
      "cell_type": "code",
      "metadata": {
        "id": "dNGzSaFPUQH4",
        "colab_type": "code",
        "colab": {}
      },
      "source": [
        "# Mapa de Choropleth é um mapa composto por polígonos coloridos. \n",
        "# É usado para representar variações espaciais de uma quantidade\n",
        "fig = px.choropleth(df_agrupado,                                                   # casos agrupados por país\n",
        "                    locations=\"Country/Region\",                                    # definindo as regiões no mapa\n",
        "                    locationmode='country names',                                  # define o modo de localização para todas regiões\n",
        "                    color=np.log(df_agrupado[\"Confirmed\"]),                        # define a cor pelo o valor de casos confirmados (aplica o log)\n",
        "                    hover_name='Country/Region',                                   # define o texto interativo com o nome da região\n",
        "                    hover_data=[\"Confirmed\", \"Deaths\"],                            # define o texto interativo com o numero de casos confirmasos e mortes\n",
        "                    animation_frame=df_agrupado[\"Date\"].dt.strftime('%d-%m-%Y'),   # define o animate_frame com as datas\n",
        "                    title='CASOS AO LONGO DO TEMPO',                               # define título\n",
        "                    color_continuous_scale=px.colors.sequential.Magenta)           # define a paleta de cores\n",
        "fig.update_layout(autosize=False, width=1200, height=800)                          # define tamanho da figura\n",
        "fig.show()"
      ],
      "execution_count": 0,
      "outputs": []
    },
    {
      "cell_type": "markdown",
      "metadata": {
        "id": "OLN3BnuNUz9l",
        "colab_type": "text"
      },
      "source": [
        "## MORTES AO LONGO DO TEMPO"
      ]
    },
    {
      "cell_type": "code",
      "metadata": {
        "id": "6-9fSPIzUVXK",
        "colab_type": "code",
        "colab": {}
      },
      "source": [
        "# Mapa de Choropleth é um mapa composto por polígonos coloridos. \n",
        "# É usado para representar variações espaciais de uma quantidade\n",
        "fig = px.choropleth(df_agrupado,                                                   # casos agrupados por país\n",
        "                    locations=\"Country/Region\",                                    # definindo as regiões no mapa\n",
        "                    locationmode='country names',                                  # define o modo de localização para todas regiões\n",
        "                    color=np.log(df_agrupado[\"Deaths\"]),                        # define a cor pelo o valor de casos confirmados (aplica o log)\n",
        "                    hover_name='Country/Region',                                   # define o texto interativo com o nome da região\n",
        "                    hover_data=[\"Confirmed\", \"Deaths\"],                            # define o texto interativo com o numero de casos confirmasos e mortes\n",
        "                    animation_frame=df_agrupado[\"Date\"].dt.strftime('%d-%m-%Y'),   # define o animate_frame com as datas\n",
        "                    title='MORTES AO LONGO DO TEMPO',                              # define título\n",
        "                    color_continuous_scale=px.colors.sequential.Magenta)           # define a paleta de cores\n",
        "fig.update_layout(autosize=False, width=1200, height=800)\n",
        "fig.show()"
      ],
      "execution_count": 0,
      "outputs": []
    },
    {
      "cell_type": "code",
      "metadata": {
        "id": "WBs5noUnU3FB",
        "colab_type": "code",
        "colab": {}
      },
      "source": [
        "!pip install plotly==4.5.2"
      ],
      "execution_count": 0,
      "outputs": []
    },
    {
      "cell_type": "code",
      "metadata": {
        "id": "mXxeRSoZU6Ti",
        "colab_type": "code",
        "colab": {}
      },
      "source": [
        "import plotly.figure_factory as ff\n",
        "from plotly.subplots import make_subplots\n",
        "import plotly.express as px"
      ],
      "execution_count": 0,
      "outputs": []
    },
    {
      "cell_type": "code",
      "metadata": {
        "id": "e37bfz88U-wc",
        "colab_type": "code",
        "colab": {}
      },
      "source": [
        "# Filtra os dados considerando o último dia da base de dados\n",
        "completo = df[df['Date'] == max(df['Date'])]"
      ],
      "execution_count": 0,
      "outputs": []
    },
    {
      "cell_type": "code",
      "metadata": {
        "id": "f0fWrp-wVAuz",
        "colab_type": "code",
        "colab": {}
      },
      "source": [
        "completo.head()"
      ],
      "execution_count": 0,
      "outputs": []
    },
    {
      "cell_type": "code",
      "metadata": {
        "id": "ZVwK2uWEVDLs",
        "colab_type": "code",
        "colab": {}
      },
      "source": [
        "# Plota Painel                        \n",
        "fig = px.treemap(completo.sort_values(by='Confirmed', ascending=False).reset_index(drop=True), \n",
        "                 path=[\"Country/Region\", \"Province/State\"],\n",
        "                 values=\"Confirmed\",\n",
        "                 height=600,\n",
        "                 title='NÚMERO DE CASOS CONFIRMADOS',\n",
        "                 color_discrete_sequence = px.colors.qualitative.Dark2)\n",
        "fig.data[0].textinfo = 'label+text+value'\n",
        "fig.show()\n",
        "# Plota Painel\n",
        "fig = px.treemap(completo.sort_values(by='Deaths', ascending=False).reset_index(drop=True), \n",
        "                 path=[\"Country/Region\", \"Province/State\"],\n",
        "                 values=\"Deaths\",\n",
        "                 height=600,\n",
        "                 title='NÚMERO DE MORTES CONFIRMADAS',\n",
        "                 color_discrete_sequence = px.colors.qualitative.Dark2)\n",
        "fig.data[0].textinfo = 'label+text+value'\n",
        "fig.show()"
      ],
      "execution_count": 0,
      "outputs": []
    },
    {
      "cell_type": "markdown",
      "metadata": {
        "id": "4_TN5m_5VaiP",
        "colab_type": "text"
      },
      "source": [
        "## PICOS DE CASOS CONFIRMADOS E MORTES"
      ]
    },
    {
      "cell_type": "code",
      "metadata": {
        "id": "R5inLH1CVF4h",
        "colab_type": "code",
        "colab": {}
      },
      "source": [
        "fig = px.line(df_agrupado,\n",
        "              x=\"Date\",\n",
        "              y=\"Confirmed\",\n",
        "              color='Country/Region',\n",
        "              height=600,\n",
        "              title='CASOS CONFIRMADOS',\n",
        "              color_discrete_sequence = px.colors.qualitative.Dark2 )\n",
        "fig.show()\n",
        "\n",
        "fig = px.line(df_agrupado,\n",
        "              x=\"Date\",\n",
        "              y=\"Deaths\",\n",
        "              color='Country/Region',\n",
        "              height=600,\n",
        "              title='MORTES CONFIRMADAS',\n",
        "              color_discrete_sequence = px.colors.qualitative.Dark2)\n",
        "fig.show()"
      ],
      "execution_count": 0,
      "outputs": []
    },
    {
      "cell_type": "markdown",
      "metadata": {
        "id": "sHrim4GSVuXe",
        "colab_type": "text"
      },
      "source": [
        "## GRÁFICO COM FOLIUM"
      ]
    },
    {
      "cell_type": "code",
      "metadata": {
        "id": "p6dgOrdpVdH7",
        "colab_type": "code",
        "colab": {}
      },
      "source": [
        "# Obtem os dados do último dia da base de dados\n",
        "temp = df[df['Date'] == max(df['Date'])]"
      ],
      "execution_count": 0,
      "outputs": []
    },
    {
      "cell_type": "code",
      "metadata": {
        "id": "eZnY3NQuVxiU",
        "colab_type": "code",
        "colab": {}
      },
      "source": [
        "import folium"
      ],
      "execution_count": 0,
      "outputs": []
    },
    {
      "cell_type": "code",
      "metadata": {
        "id": "IlSgjO0_VzfQ",
        "colab_type": "code",
        "colab": {}
      },
      "source": [
        "m = folium.Map(location=[0, 0], tiles='cartodbpositron',\n",
        "               min_zoom=1, max_zoom=4, zoom_start=1)\n",
        "\n",
        "for i in range(0, len(temp)):\n",
        "    folium.Circle(\n",
        "        location=[temp.iloc[i]['Lat'], temp.iloc[i]['Long']],\n",
        "        color='crimson', fill='crimson',\n",
        "        tooltip =   '<li><bold>Country : '+str(temp.iloc[i]['Country/Region'])+\n",
        "                    '<li><bold>Province : '+str(temp.iloc[i]['Province/State'])+\n",
        "                    '<li><bold>Confirmed : '+str(temp.iloc[i]['Confirmed'])+\n",
        "                    '<li><bold>Deaths : '+str(temp.iloc[i]['Deaths']),\n",
        "        radius=int(temp.iloc[i]['Confirmed'])**1.1).add_to(m)\n",
        "m"
      ],
      "execution_count": 0,
      "outputs": []
    }
  ]
}